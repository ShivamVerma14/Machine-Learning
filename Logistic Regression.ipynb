{
 "cells": [
  {
   "cell_type": "markdown",
   "id": "773959b2",
   "metadata": {},
   "source": [
    "## Q1. Use logistic regression to build a model to classify the iris dataset."
   ]
  },
  {
   "cell_type": "code",
   "execution_count": 1,
   "id": "255cb394",
   "metadata": {},
   "outputs": [],
   "source": [
    "import numpy as np\n",
    "import pandas as pd\n",
    "import matplotlib.pyplot as plt\n",
    "from sklearn.model_selection import train_test_split\n",
    "from sklearn.preprocessing import StandardScaler\n",
    "from sklearn.datasets import load_iris\n",
    "from sklearn.metrics import confusion_matrix, ConfusionMatrixDisplay, accuracy_score"
   ]
  },
  {
   "cell_type": "markdown",
   "id": "f8af901a",
   "metadata": {},
   "source": [
    "**Defining Logistic Regression Model**"
   ]
  },
  {
   "cell_type": "code",
   "execution_count": 2,
   "id": "8ac5e057",
   "metadata": {},
   "outputs": [],
   "source": [
    "class LogisticRegression:\n",
    "    def __init__(self, learning_rate=0.1, number_of_iterations=30000):\n",
    "        self.learning_rate = learning_rate\n",
    "        self.number_of_iterations = number_of_iterations\n",
    "        \n",
    "    def train(self, X, y):\n",
    "        self.m, self.n = X.shape\n",
    "        \n",
    "        self.weights = np.zeros(self.n)\n",
    "        self.bias = 0\n",
    "        \n",
    "        for _ in range(self.number_of_iterations):\n",
    "            # calculating the hypothesis\n",
    "            y_hat = 1 / (1 + np.exp(-(X.dot(self.weights) + self.bias)))\n",
    "            \n",
    "            # calculating derivatives\n",
    "            dw = (1 / self.m) * np.dot(X.T, (y_hat - y))\n",
    "            db = (1 / self.m) * np.sum(y_hat - y)\n",
    "            \n",
    "            # updating weights and bias using gradient descent\n",
    "            self.weights -= self.learning_rate * dw\n",
    "            self.bias -= self.learning_rate * db\n",
    "            \n",
    "    def predict(self, X):\n",
    "        y_pred = 1 / (1 + np.exp(-(X.dot(self.weights) + self.bias)))\n",
    "        \n",
    "        return y_pred"
   ]
  },
  {
   "cell_type": "markdown",
   "id": "fc5b4219",
   "metadata": {},
   "source": [
    "**Loading the dataset**"
   ]
  },
  {
   "cell_type": "code",
   "execution_count": 3,
   "id": "61c0822c",
   "metadata": {},
   "outputs": [],
   "source": [
    "X, y = load_iris(return_X_y=True, as_frame=True)"
   ]
  },
  {
   "cell_type": "code",
   "execution_count": 4,
   "id": "f7a55e2d",
   "metadata": {},
   "outputs": [
    {
     "data": {
      "text/html": [
       "<div>\n",
       "<style scoped>\n",
       "    .dataframe tbody tr th:only-of-type {\n",
       "        vertical-align: middle;\n",
       "    }\n",
       "\n",
       "    .dataframe tbody tr th {\n",
       "        vertical-align: top;\n",
       "    }\n",
       "\n",
       "    .dataframe thead th {\n",
       "        text-align: right;\n",
       "    }\n",
       "</style>\n",
       "<table border=\"1\" class=\"dataframe\">\n",
       "  <thead>\n",
       "    <tr style=\"text-align: right;\">\n",
       "      <th></th>\n",
       "      <th>sepal length (cm)</th>\n",
       "      <th>sepal width (cm)</th>\n",
       "      <th>petal length (cm)</th>\n",
       "      <th>petal width (cm)</th>\n",
       "    </tr>\n",
       "  </thead>\n",
       "  <tbody>\n",
       "    <tr>\n",
       "      <th>0</th>\n",
       "      <td>5.1</td>\n",
       "      <td>3.5</td>\n",
       "      <td>1.4</td>\n",
       "      <td>0.2</td>\n",
       "    </tr>\n",
       "    <tr>\n",
       "      <th>1</th>\n",
       "      <td>4.9</td>\n",
       "      <td>3.0</td>\n",
       "      <td>1.4</td>\n",
       "      <td>0.2</td>\n",
       "    </tr>\n",
       "    <tr>\n",
       "      <th>2</th>\n",
       "      <td>4.7</td>\n",
       "      <td>3.2</td>\n",
       "      <td>1.3</td>\n",
       "      <td>0.2</td>\n",
       "    </tr>\n",
       "    <tr>\n",
       "      <th>3</th>\n",
       "      <td>4.6</td>\n",
       "      <td>3.1</td>\n",
       "      <td>1.5</td>\n",
       "      <td>0.2</td>\n",
       "    </tr>\n",
       "    <tr>\n",
       "      <th>4</th>\n",
       "      <td>5.0</td>\n",
       "      <td>3.6</td>\n",
       "      <td>1.4</td>\n",
       "      <td>0.2</td>\n",
       "    </tr>\n",
       "  </tbody>\n",
       "</table>\n",
       "</div>"
      ],
      "text/plain": [
       "   sepal length (cm)  sepal width (cm)  petal length (cm)  petal width (cm)\n",
       "0                5.1               3.5                1.4               0.2\n",
       "1                4.9               3.0                1.4               0.2\n",
       "2                4.7               3.2                1.3               0.2\n",
       "3                4.6               3.1                1.5               0.2\n",
       "4                5.0               3.6                1.4               0.2"
      ]
     },
     "execution_count": 4,
     "metadata": {},
     "output_type": "execute_result"
    }
   ],
   "source": [
    "X.head()"
   ]
  },
  {
   "cell_type": "markdown",
   "id": "10a4ec77",
   "metadata": {},
   "source": [
    "**Splitting the dataset into training and testing data.**"
   ]
  },
  {
   "cell_type": "code",
   "execution_count": 5,
   "id": "8ed969a6",
   "metadata": {},
   "outputs": [],
   "source": [
    "X_train, X_test, y_train, y_test = train_test_split(X, y, test_size=0.3)"
   ]
  },
  {
   "cell_type": "markdown",
   "id": "498f0e42",
   "metadata": {},
   "source": [
    "**Feature Scaling**"
   ]
  },
  {
   "cell_type": "code",
   "execution_count": 6,
   "id": "97033670",
   "metadata": {},
   "outputs": [],
   "source": [
    "scaler = StandardScaler()\n",
    "scaler.fit(X_train)\n",
    "X_train = scaler.transform(X_train)\n",
    "X_test = scaler.transform(X_test)"
   ]
  },
  {
   "cell_type": "markdown",
   "id": "93b01257",
   "metadata": {},
   "source": [
    "**Implementing the model for class Setosa i.e. 'Class Label 0'**"
   ]
  },
  {
   "cell_type": "code",
   "execution_count": 7,
   "id": "b99aa1fe",
   "metadata": {},
   "outputs": [],
   "source": [
    "first_model = LogisticRegression()\n",
    "\n",
    "# changing the class label for 'Setosa' from '0' to '1' and others to '0'\n",
    "setosa_y_train = np.where(y_train == 0, 1, 0)\n",
    "\n",
    "first_model.train(X_train, setosa_y_train)\n",
    "\n",
    "# calculating the probability for the sample being labelled as 'Setosa'\n",
    "setosa_pred = first_model.predict(X_test)"
   ]
  },
  {
   "cell_type": "markdown",
   "id": "ee4e1918",
   "metadata": {},
   "source": [
    "**Implementing the model for class Versicolor i.e. 'Class Label 1'**"
   ]
  },
  {
   "cell_type": "code",
   "execution_count": 8,
   "id": "57408a0c",
   "metadata": {},
   "outputs": [],
   "source": [
    "second_model = LogisticRegression()\n",
    "\n",
    "# changing the class label for others than 'Versicolor' to '0'\n",
    "versi_y_train = np.where(y_train == 1, 1, 0)\n",
    "\n",
    "second_model.train(X_train, versi_y_train)\n",
    "\n",
    "# calculating the probability for the sample being labelled as 'Versicolor'\n",
    "versi_pred = second_model.predict(X_test)"
   ]
  },
  {
   "cell_type": "markdown",
   "id": "bb769b20",
   "metadata": {},
   "source": [
    "**Implementing the model for class Verginica i.e. 'Class Label 2'**"
   ]
  },
  {
   "cell_type": "code",
   "execution_count": 9,
   "id": "c1c8bb77",
   "metadata": {},
   "outputs": [],
   "source": [
    "third_model = LogisticRegression()\n",
    "\n",
    "# changing the class label for 'Setosa' from '0' to '1' and others to '0'\n",
    "vergi_y_train = np.where(y_train == 2, 1, 0)\n",
    "\n",
    "third_model.train(X_train, vergi_y_train)\n",
    "\n",
    "# calculating the probability for the sample being labelled as 'Vergini'\n",
    "vergi_pred = third_model.predict(X_test)"
   ]
  },
  {
   "cell_type": "markdown",
   "id": "48a84f3d",
   "metadata": {},
   "source": [
    "**Probabilities for test sample being a class label.**"
   ]
  },
  {
   "cell_type": "code",
   "execution_count": 10,
   "id": "ee616032",
   "metadata": {},
   "outputs": [],
   "source": [
    "probabilities = pd.DataFrame({0: setosa_pred, 1: versi_pred, 2: vergi_pred})"
   ]
  },
  {
   "cell_type": "code",
   "execution_count": 11,
   "id": "44606cae",
   "metadata": {},
   "outputs": [
    {
     "data": {
      "text/html": [
       "<div>\n",
       "<style scoped>\n",
       "    .dataframe tbody tr th:only-of-type {\n",
       "        vertical-align: middle;\n",
       "    }\n",
       "\n",
       "    .dataframe tbody tr th {\n",
       "        vertical-align: top;\n",
       "    }\n",
       "\n",
       "    .dataframe thead th {\n",
       "        text-align: right;\n",
       "    }\n",
       "</style>\n",
       "<table border=\"1\" class=\"dataframe\">\n",
       "  <thead>\n",
       "    <tr style=\"text-align: right;\">\n",
       "      <th></th>\n",
       "      <th>0</th>\n",
       "      <th>1</th>\n",
       "      <th>2</th>\n",
       "    </tr>\n",
       "  </thead>\n",
       "  <tbody>\n",
       "    <tr>\n",
       "      <th>0</th>\n",
       "      <td>4.089308e-06</td>\n",
       "      <td>0.858713</td>\n",
       "      <td>0.010016</td>\n",
       "    </tr>\n",
       "    <tr>\n",
       "      <th>1</th>\n",
       "      <td>1.707793e-08</td>\n",
       "      <td>0.795825</td>\n",
       "      <td>0.998681</td>\n",
       "    </tr>\n",
       "    <tr>\n",
       "      <th>2</th>\n",
       "      <td>8.845346e-08</td>\n",
       "      <td>0.141727</td>\n",
       "      <td>0.999938</td>\n",
       "    </tr>\n",
       "    <tr>\n",
       "      <th>3</th>\n",
       "      <td>4.534907e-08</td>\n",
       "      <td>0.347248</td>\n",
       "      <td>0.999889</td>\n",
       "    </tr>\n",
       "    <tr>\n",
       "      <th>4</th>\n",
       "      <td>1.619277e-06</td>\n",
       "      <td>0.765813</td>\n",
       "      <td>0.363611</td>\n",
       "    </tr>\n",
       "  </tbody>\n",
       "</table>\n",
       "</div>"
      ],
      "text/plain": [
       "              0         1         2\n",
       "0  4.089308e-06  0.858713  0.010016\n",
       "1  1.707793e-08  0.795825  0.998681\n",
       "2  8.845346e-08  0.141727  0.999938\n",
       "3  4.534907e-08  0.347248  0.999889\n",
       "4  1.619277e-06  0.765813  0.363611"
      ]
     },
     "execution_count": 11,
     "metadata": {},
     "output_type": "execute_result"
    }
   ],
   "source": [
    "probabilities.head()"
   ]
  },
  {
   "cell_type": "markdown",
   "id": "a4a13127",
   "metadata": {},
   "source": [
    "**Predicting the probabilities by finding the maximum.**"
   ]
  },
  {
   "cell_type": "code",
   "execution_count": 12,
   "id": "5e7a766c",
   "metadata": {},
   "outputs": [],
   "source": [
    "probabilities['pred'] = probabilities.idxmax(axis=1)"
   ]
  },
  {
   "cell_type": "code",
   "execution_count": 13,
   "id": "f4d27b56",
   "metadata": {},
   "outputs": [],
   "source": [
    "y_pred = probabilities['pred']"
   ]
  },
  {
   "cell_type": "markdown",
   "id": "414fe771",
   "metadata": {},
   "source": [
    "**Confusion Matrix**"
   ]
  },
  {
   "cell_type": "code",
   "execution_count": 14,
   "id": "1f92105f",
   "metadata": {},
   "outputs": [
    {
     "data": {
      "image/png": "[encoded data removed]",
      "text/plain": [
       "<Figure size 432x288 with 2 Axes>"
      ]
     },
     "metadata": {
      "needs_background": "light"
     },
     "output_type": "display_data"
    }
   ],
   "source": [
    "conf_matrix = confusion_matrix(y_test, y_pred)\n",
    "disp = ConfusionMatrixDisplay(conf_matrix)\n",
    "\n",
    "disp.plot()\n",
    "plt.show()"
   ]
  },
  {
   "cell_type": "markdown",
   "id": "e91b75b4",
   "metadata": {},
   "source": [
    "**Accuracy**"
   ]
  },
  {
   "cell_type": "code",
   "execution_count": 15,
   "id": "46493567",
   "metadata": {},
   "outputs": [],
   "source": [
    "def accuracy(test, pred):\n",
    "    count = 0\n",
    "    \n",
    "    for i in range(len(test)):\n",
    "        if test[i] == pred[i]:\n",
    "            count += 1\n",
    "            \n",
    "    return count / len(test)"
   ]
  },
  {
   "cell_type": "code",
   "execution_count": 16,
   "id": "f1c91084",
   "metadata": {},
   "outputs": [
    {
     "name": "stdout",
     "output_type": "stream",
     "text": [
      "Accuracy: 0.9777777777777777\n"
     ]
    }
   ],
   "source": [
    "print(f'Accuracy: {accuracy(np.array(y_test), np.array(y_pred))}')"
   ]
  }
 ],
 "metadata": {
  "kernelspec": {
   "display_name": "Python 3 (ipykernel)",
   "language": "python",
   "name": "python3"
  },
  "language_info": {
   "codemirror_mode": {
    "name": "ipython",
    "version": 3
   },
   "file_extension": ".py",
   "mimetype": "text/x-python",
   "name": "python",
   "nbconvert_exporter": "python",
   "pygments_lexer": "ipython3",
   "version": "3.9.7"
  }
 },
 "nbformat": 4,
 "nbformat_minor": 5
}
