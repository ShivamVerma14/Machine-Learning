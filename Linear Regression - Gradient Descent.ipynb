{
 "cells": [
  {
   "cell_type": "markdown",
   "id": "414e67c8",
   "metadata": {},
   "source": [
    "## Q1. Using Linear Regression (Gradient Descent), predict the salary on the basis of years of experience."
   ]
  },
  {
   "cell_type": "code",
   "execution_count": 1,
   "id": "e50cfbdd",
   "metadata": {},
   "outputs": [],
   "source": [
    "import numpy as np\n",
    "import pandas as pd\n",
    "import matplotlib.pyplot as plt\n",
    "from sklearn.model_selection import train_test_split"
   ]
  },
  {
   "cell_type": "markdown",
   "id": "ffbb4344",
   "metadata": {},
   "source": [
    "**Defining Linear Regression**"
   ]
  },
  {
   "cell_type": "code",
   "execution_count": 2,
   "id": "c15a95af",
   "metadata": {},
   "outputs": [],
   "source": [
    "class LinearRegression:\n",
    "    def __init__(self, learning_rate=0.01, number_of_iterations=10000):\n",
    "        self.number_of_iterations = number_of_iterations\n",
    "        self.learning_rate = learning_rate\n",
    "        \n",
    "    def train(self, X, y):           \n",
    "        self.m = X.shape[0]\n",
    "        self.n = 1\n",
    "        \n",
    "        self.bias = 0\n",
    "        self.weights = 0\n",
    "        \n",
    "        for _ in range(self.number_of_iterations):\n",
    "            # calculating the hypothesis\n",
    "            y_hat = X * self.weights + self.bias\n",
    "            \n",
    "            # calculating the derivatives\n",
    "            dw = (1 / self.m) * np.dot(X.T, (y_hat - y))\n",
    "            db = (1 / self.m) * np.sum(y_hat - y)\n",
    "            \n",
    "            # updating weights and bias\n",
    "            self.weights -= self.learning_rate * dw\n",
    "            self.bias -= self.learning_rate * db\n",
    "            \n",
    "    def predict(self, X):\n",
    "        return X * self.weights + self.bias\n",
    "    \n",
    "    def r_square_score(self, y_test, y_pred):\n",
    "        tss = 0\n",
    "        rss = 0\n",
    "        y_test_mean = y_test.mean()\n",
    "        \n",
    "        for i in range(len(y_test)):\n",
    "            tss += (y_test[i] - y_test_mean) ** 2\n",
    "            rss += (y_test[i] - y_pred[i]) ** 2\n",
    "            \n",
    "        score = 1 - (rss / tss)\n",
    "        return score"
   ]
  },
  {
   "cell_type": "markdown",
   "id": "12c97b9a",
   "metadata": {},
   "source": [
    "**Loading the dataset**"
   ]
  },
  {
   "cell_type": "code",
   "execution_count": 3,
   "id": "8ebb555e",
   "metadata": {},
   "outputs": [
    {
     "data": {
      "text/html": [
       "<div>\n",
       "<style scoped>\n",
       "    .dataframe tbody tr th:only-of-type {\n",
       "        vertical-align: middle;\n",
       "    }\n",
       "\n",
       "    .dataframe tbody tr th {\n",
       "        vertical-align: top;\n",
       "    }\n",
       "\n",
       "    .dataframe thead th {\n",
       "        text-align: right;\n",
       "    }\n",
       "</style>\n",
       "<table border=\"1\" class=\"dataframe\">\n",
       "  <thead>\n",
       "    <tr style=\"text-align: right;\">\n",
       "      <th></th>\n",
       "      <th>YearsExperience</th>\n",
       "      <th>Salary</th>\n",
       "    </tr>\n",
       "  </thead>\n",
       "  <tbody>\n",
       "    <tr>\n",
       "      <th>0</th>\n",
       "      <td>1.1</td>\n",
       "      <td>39343</td>\n",
       "    </tr>\n",
       "    <tr>\n",
       "      <th>1</th>\n",
       "      <td>1.3</td>\n",
       "      <td>46205</td>\n",
       "    </tr>\n",
       "    <tr>\n",
       "      <th>2</th>\n",
       "      <td>1.5</td>\n",
       "      <td>37731</td>\n",
       "    </tr>\n",
       "    <tr>\n",
       "      <th>3</th>\n",
       "      <td>2.0</td>\n",
       "      <td>43525</td>\n",
       "    </tr>\n",
       "    <tr>\n",
       "      <th>4</th>\n",
       "      <td>2.2</td>\n",
       "      <td>39891</td>\n",
       "    </tr>\n",
       "  </tbody>\n",
       "</table>\n",
       "</div>"
      ],
      "text/plain": [
       "   YearsExperience  Salary\n",
       "0              1.1   39343\n",
       "1              1.3   46205\n",
       "2              1.5   37731\n",
       "3              2.0   43525\n",
       "4              2.2   39891"
      ]
     },
     "execution_count": 3,
     "metadata": {},
     "output_type": "execute_result"
    }
   ],
   "source": [
    "data = pd.read_csv('Salary_data.csv')\n",
    "\n",
    "data.head()"
   ]
  },
  {
   "cell_type": "code",
   "execution_count": 4,
   "id": "7b232c76",
   "metadata": {},
   "outputs": [],
   "source": [
    "X = np.array(data['YearsExperience'])\n",
    "y = np.array(data['Salary'])"
   ]
  },
  {
   "cell_type": "markdown",
   "id": "a637b302",
   "metadata": {},
   "source": [
    "**Splitting the dataset into training and testing samples.**"
   ]
  },
  {
   "cell_type": "code",
   "execution_count": 5,
   "id": "9ff2207b",
   "metadata": {},
   "outputs": [],
   "source": [
    "X_train, X_test, y_train, y_test = train_test_split(X, y, test_size=0.3, random_state=100)"
   ]
  },
  {
   "cell_type": "markdown",
   "id": "327e27e9",
   "metadata": {},
   "source": [
    "**Training the model on training samples and predicting the values for test samples.**"
   ]
  },
  {
   "cell_type": "code",
   "execution_count": 6,
   "id": "f9337ce8",
   "metadata": {},
   "outputs": [
    {
     "name": "stdout",
     "output_type": "stream",
     "text": [
      "Weight: 9731.203841173725\n",
      "Bias: 25202.887767935816\n"
     ]
    }
   ],
   "source": [
    "model = LinearRegression()\n",
    "\n",
    "model.train(X_train, y_train)\n",
    "y_pred = model.predict(X_test)\n",
    "\n",
    "print(f'Weight: {model.weights}')\n",
    "print(f'Bias: {model.bias}')"
   ]
  },
  {
   "cell_type": "markdown",
   "id": "fdb2ad23",
   "metadata": {},
   "source": [
    "**Plotting the line of regression.**"
   ]
  },
  {
   "cell_type": "code",
   "execution_count": 7,
   "id": "19b82b0e",
   "metadata": {},
   "outputs": [
    {
     "data": {
      "image/png": "[encoded data removed]",
      "text/plain": [
       "<Figure size 432x288 with 1 Axes>"
      ]
     },
     "metadata": {
      "needs_background": "light"
     },
     "output_type": "display_data"
    }
   ],
   "source": [
    "plt.title('Years of Experience VS Salary - Line of Regression')\n",
    "plt.scatter(X, y)\n",
    "plt.plot(X, model.bias + (model.weights * X), 'r-')\n",
    "plt.xlabel('Years of Experience')\n",
    "plt.ylabel('Salary')\n",
    "plt.show()"
   ]
  },
  {
   "cell_type": "markdown",
   "id": "b5a620dc",
   "metadata": {},
   "source": [
    "**Accuracy: R-Square Score**"
   ]
  },
  {
   "cell_type": "code",
   "execution_count": 8,
   "id": "42d49b19",
   "metadata": {},
   "outputs": [
    {
     "name": "stdout",
     "output_type": "stream",
     "text": [
      "Accuracy: 0.9627668685145325\n"
     ]
    }
   ],
   "source": [
    "print(f'Accuracy: {model.r_square_score(y_test, y_pred)}')"
   ]
  }
 ],
 "metadata": {
  "kernelspec": {
   "display_name": "Python 3 (ipykernel)",
   "language": "python",
   "name": "python3"
  },
  "language_info": {
   "codemirror_mode": {
    "name": "ipython",
    "version": 3
   },
   "file_extension": ".py",
   "mimetype": "text/x-python",
   "name": "python",
   "nbconvert_exporter": "python",
   "pygments_lexer": "ipython3",
   "version": "3.9.7"
  }
 },
 "nbformat": 4,
 "nbformat_minor": 5
}
