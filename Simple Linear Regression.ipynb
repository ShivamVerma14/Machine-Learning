{
 "cells": [
  {
   "cell_type": "markdown",
   "id": "9e093b7c",
   "metadata": {},
   "source": [
    "## Q1. Using Linear Regression (OLS), predict the salary on the basis of years of experience. "
   ]
  },
  {
   "cell_type": "code",
   "execution_count": 1,
   "id": "1a18f377",
   "metadata": {},
   "outputs": [],
   "source": [
    "import numpy as np\n",
    "import pandas as pd\n",
    "import matplotlib.pyplot as plt\n",
    "from sklearn.model_selection import train_test_split"
   ]
  },
  {
   "cell_type": "code",
   "execution_count": 2,
   "id": "45d41cbc",
   "metadata": {},
   "outputs": [
    {
     "data": {
      "text/html": [
       "<div>\n",
       "<style scoped>\n",
       "    .dataframe tbody tr th:only-of-type {\n",
       "        vertical-align: middle;\n",
       "    }\n",
       "\n",
       "    .dataframe tbody tr th {\n",
       "        vertical-align: top;\n",
       "    }\n",
       "\n",
       "    .dataframe thead th {\n",
       "        text-align: right;\n",
       "    }\n",
       "</style>\n",
       "<table border=\"1\" class=\"dataframe\">\n",
       "  <thead>\n",
       "    <tr style=\"text-align: right;\">\n",
       "      <th></th>\n",
       "      <th>YearsExperience</th>\n",
       "      <th>Salary</th>\n",
       "    </tr>\n",
       "  </thead>\n",
       "  <tbody>\n",
       "    <tr>\n",
       "      <th>0</th>\n",
       "      <td>1.1</td>\n",
       "      <td>39343</td>\n",
       "    </tr>\n",
       "    <tr>\n",
       "      <th>1</th>\n",
       "      <td>1.3</td>\n",
       "      <td>46205</td>\n",
       "    </tr>\n",
       "    <tr>\n",
       "      <th>2</th>\n",
       "      <td>1.5</td>\n",
       "      <td>37731</td>\n",
       "    </tr>\n",
       "    <tr>\n",
       "      <th>3</th>\n",
       "      <td>2.0</td>\n",
       "      <td>43525</td>\n",
       "    </tr>\n",
       "    <tr>\n",
       "      <th>4</th>\n",
       "      <td>2.2</td>\n",
       "      <td>39891</td>\n",
       "    </tr>\n",
       "  </tbody>\n",
       "</table>\n",
       "</div>"
      ],
      "text/plain": [
       "   YearsExperience  Salary\n",
       "0              1.1   39343\n",
       "1              1.3   46205\n",
       "2              1.5   37731\n",
       "3              2.0   43525\n",
       "4              2.2   39891"
      ]
     },
     "execution_count": 2,
     "metadata": {},
     "output_type": "execute_result"
    }
   ],
   "source": [
    "data = pd.read_csv('Salary_data.csv')\n",
    "\n",
    "data.head()"
   ]
  },
  {
   "cell_type": "code",
   "execution_count": 3,
   "id": "899995ab",
   "metadata": {},
   "outputs": [],
   "source": [
    "X = data['YearsExperience']\n",
    "y = data['Salary']"
   ]
  },
  {
   "cell_type": "code",
   "execution_count": 7,
   "id": "59fe4d93",
   "metadata": {},
   "outputs": [
    {
     "data": {
      "image/png": "[encoded data removed]",
      "text/plain": [
       "<Figure size 432x288 with 1 Axes>"
      ]
     },
     "metadata": {
      "needs_background": "light"
     },
     "output_type": "display_data"
    }
   ],
   "source": [
    "plt.title('Years of Experience VS Salary')\n",
    "plt.scatter(X, y)\n",
    "plt.xlabel('Years of Experience')\n",
    "plt.ylabel('Salary')\n",
    "plt.show()"
   ]
  },
  {
   "cell_type": "markdown",
   "id": "700aa46b",
   "metadata": {},
   "source": [
    "**Defining the OLS Model**"
   ]
  },
  {
   "cell_type": "code",
   "execution_count": 16,
   "id": "e169f837",
   "metadata": {},
   "outputs": [],
   "source": [
    "class OLS:\n",
    "    def __init__(self):\n",
    "        self.bias = None\n",
    "        self.weight = None\n",
    "        \n",
    "    def fit(self, X, y):\n",
    "        # calculating the mean of independent and dependent variable\n",
    "        x_mean = X.mean()\n",
    "        y_mean = y.mean()\n",
    "        \n",
    "        # initialising the value of numerator and denominator for the calculation of weight\n",
    "        num = 0\n",
    "        den = 0\n",
    "        \n",
    "        for i in range(len(X)):\n",
    "            num += (X[i] - x_mean) * (y[i] - y_mean)\n",
    "            den += (X[i] - x_mean) ** 2\n",
    "            \n",
    "        # calculating weight and bias\n",
    "        self.weight = num / den\n",
    "        self.bias = y_mean - (self.weight * x_mean)\n",
    "        \n",
    "    def predict(self, X):\n",
    "        return self.bias + (self.weight * X)\n",
    "    \n",
    "    def r_square_score(self, y_test, y_pred):\n",
    "        tss = 0\n",
    "        rss = 0\n",
    "        y_test_mean = y_test.mean()\n",
    "        \n",
    "        for i in range(len(y_test)):\n",
    "            tss += (y_test[i] - y_test_mean) ** 2\n",
    "            rss += (y_test[i] - y_pred[i]) ** 2\n",
    "            \n",
    "        score = 1 - (rss / tss)\n",
    "        return score"
   ]
  },
  {
   "cell_type": "markdown",
   "id": "07a3e799",
   "metadata": {},
   "source": [
    "**Splitting the dataset into training and testing data.**"
   ]
  },
  {
   "cell_type": "code",
   "execution_count": 9,
   "id": "1547697c",
   "metadata": {},
   "outputs": [],
   "source": [
    "X_train, X_test, y_train, y_test = train_test_split(X, y, test_size=0.3, random_state=100)"
   ]
  },
  {
   "cell_type": "markdown",
   "id": "e85d8eed",
   "metadata": {},
   "source": [
    "**Fitting the model on training set and predicting the values for testing set.**"
   ]
  },
  {
   "cell_type": "code",
   "execution_count": 17,
   "id": "a3c8c91b",
   "metadata": {},
   "outputs": [
    {
     "name": "stdout",
     "output_type": "stream",
     "text": [
      "Weight: 9731.203838245372\n",
      "Bias: 25202.887786154904\n"
     ]
    }
   ],
   "source": [
    "model = OLS()\n",
    "\n",
    "model.fit(np.array(X_train), np.array(y_train))\n",
    "\n",
    "y_pred = model.predict(X_test)\n",
    "\n",
    "print(f'Weight: {model.weight}')\n",
    "print(f'Bias: {model.bias}')"
   ]
  },
  {
   "cell_type": "markdown",
   "id": "94559bc9",
   "metadata": {},
   "source": [
    "**Plotting the line of regression.**"
   ]
  },
  {
   "cell_type": "code",
   "execution_count": 18,
   "id": "2f676906",
   "metadata": {},
   "outputs": [
    {
     "data": {
      "image/png": "[encoded data removed]",
      "text/plain": [
       "<Figure size 432x288 with 1 Axes>"
      ]
     },
     "metadata": {
      "needs_background": "light"
     },
     "output_type": "display_data"
    }
   ],
   "source": [
    "plt.title('Years of Experience VS Salary - Line of Regression')\n",
    "plt.scatter(X, y)\n",
    "plt.plot(X, model.bias + (model.weight * X), 'r-')\n",
    "plt.xlabel('Years of Experience')\n",
    "plt.ylabel('Salary')\n",
    "plt.show()"
   ]
  },
  {
   "cell_type": "markdown",
   "id": "1c756a18",
   "metadata": {},
   "source": [
    "**R-square Score**"
   ]
  },
  {
   "cell_type": "code",
   "execution_count": 19,
   "id": "c2f4ed95",
   "metadata": {},
   "outputs": [
    {
     "name": "stdout",
     "output_type": "stream",
     "text": [
      "R-square Score: 0.9627668685473267\n"
     ]
    }
   ],
   "source": [
    "print(f'R-square Score: {model.r_square_score(np.array(y_test), np.array(y_pred))}')"
   ]
  }
 ],
 "metadata": {
  "kernelspec": {
   "display_name": "Python 3 (ipykernel)",
   "language": "python",
   "name": "python3"
  },
  "language_info": {
   "codemirror_mode": {
    "name": "ipython",
    "version": 3
   },
   "file_extension": ".py",
   "mimetype": "text/x-python",
   "name": "python",
   "nbconvert_exporter": "python",
   "pygments_lexer": "ipython3",
   "version": "3.9.7"
  }
 },
 "nbformat": 4,
 "nbformat_minor": 5
}
